{
 "cells": [
  {
   "cell_type": "markdown",
   "id": "27bf9cb5-6bb0-4abb-bf43-d14719d3b414",
   "metadata": {},
   "source": [
    "<h3>Measuring Performance with OpenCV</h3>"
   ]
  },
  {
   "cell_type": "code",
   "execution_count": 3,
   "id": "7bc8ebd4-c072-4d0b-aeba-ac50b869f122",
   "metadata": {},
   "outputs": [
    {
     "name": "stdout",
     "output_type": "stream",
     "text": [
      "19.7734254\n"
     ]
    }
   ],
   "source": [
    "# cv2.getTickCount function returns the number of clock-cycles after a reference event \n",
    "# (like the moment machine was switched ON) to the moment this function is called\n",
    "\n",
    "# cv2.getTickFrequency function returns the frequency of clock-cycles, or the number of clock-cycles per second\n",
    "import cv2\n",
    "\n",
    "image = cv2.imread('Hau.jpg')\n",
    "\n",
    "e1 = cv2.getTickCount()\n",
    "\n",
    "for i in range(5,49,2):\n",
    "    image = cv2.medianBlur(image , i)\n",
    "    \n",
    "e2 = cv2.getTickCount()\n",
    "\n",
    "# Thời gian thực hiện\n",
    "t = (e2 - e1)/cv2.getTickFrequency()\n",
    "print(t)"
   ]
  },
  {
   "cell_type": "markdown",
   "id": "659bdd09-98a0-4b81-9e41-c543ab4de867",
   "metadata": {},
   "source": [
    "<h3>Default Optimization in OpenCV</h3>"
   ]
  },
  {
   "cell_type": "code",
   "execution_count": 4,
   "id": "17c658df-3dba-4ea4-a431-ce8a7f855978",
   "metadata": {},
   "outputs": [
    {
     "name": "stdout",
     "output_type": "stream",
     "text": [
      "Optimizations enabled: True\n",
      "Optimizations enabled: False\n",
      "Optimizations enabled: True\n"
     ]
    }
   ],
   "source": [
    "import cv2\n",
    "\n",
    "# Kiểm tra trạng thái tối ưu hóa\n",
    "print(\"Optimizations enabled:\", cv2.useOptimized())\n",
    "\n",
    "# Tắt tối ưu hóa\n",
    "cv2.setUseOptimized(False)\n",
    "print(\"Optimizations enabled:\", cv2.useOptimized())\n",
    "\n",
    "# Bật lại tối ưu hóa\n",
    "cv2.setUseOptimized(True)\n",
    "print(\"Optimizations enabled:\", cv2.useOptimized())\n"
   ]
  },
  {
   "cell_type": "code",
   "execution_count": 5,
   "id": "ff1c8f74-20a2-4761-b827-93f5cec4ce12",
   "metadata": {},
   "outputs": [
    {
     "name": "stdout",
     "output_type": "stream",
     "text": [
      "Time with optimizations: 0.02271 seconds\n",
      "Time without optimizations: 0.03091 seconds\n"
     ]
    }
   ],
   "source": [
    "import cv2\n",
    "import numpy as np\n",
    "\n",
    "# Tạo một ảnh ngẫu nhiên\n",
    "image = np.random.randint(0, 256, (1000, 1000), dtype=np.uint8)\n",
    "\n",
    "def measure_time():\n",
    "    image = cv2.imread('Hau.jpg')\n",
    "    e1 = cv2.getTickCount()\n",
    "    cv2.GaussianBlur(src=image, ksize=(5,5), sigmaX=0, sigmaY=0)\n",
    "    e2 = cv2.getTickCount()\n",
    "    \n",
    "    # Thời gian thực hiện\n",
    "    t = (e2 - e1)/cv2.getTickFrequency()\n",
    "    return t\n",
    "\n",
    "# Đo thời gian thực thi với tối ưu hóa\n",
    "cv2.setUseOptimized(True)\n",
    "optimized_time = measure_time()\n",
    "print(f\"Time with optimizations: {optimized_time:.5f} seconds\")\n",
    "\n",
    "# Đo thời gian thực thi không tối ưu hóa\n",
    "cv2.setUseOptimized(False)\n",
    "non_optimized_time = measure_time()\n",
    "print(f\"Time without optimizations: {non_optimized_time:.5f} seconds\")"
   ]
  },
  {
   "cell_type": "markdown",
   "id": "52d6ff9a-859f-4119-a666-56c6c8a4c8b1",
   "metadata": {},
   "source": [
    "<h3>Performance Optimization Techniques</h3>"
   ]
  },
  {
   "cell_type": "markdown",
   "id": "258e2292-f1f1-482b-8a9d-b5b6c87b803e",
   "metadata": {},
   "source": [
    "<ol>\n",
    "<li>Avoid using loops in Python as far as possible, especially double/triple loops etc. They are inherently slow. </li>\n",
    "<li>Vectorize the algorithm/code to the maximum possible extent because Numpy and OpenCV are optimized for vector operations.</li>\n",
    "<li>Exploit the cache coherence.</li>\n",
    "<li>Never make copies of array unless it is needed. Try to use views instead. Array copying is a costly operation.</li>\n",
    "</ol>"
   ]
  }
 ],
 "metadata": {
  "kernelspec": {
   "display_name": "Python 3 (ipykernel)",
   "language": "python",
   "name": "python3"
  },
  "language_info": {
   "codemirror_mode": {
    "name": "ipython",
    "version": 3
   },
   "file_extension": ".py",
   "mimetype": "text/x-python",
   "name": "python",
   "nbconvert_exporter": "python",
   "pygments_lexer": "ipython3",
   "version": "3.11.6"
  }
 },
 "nbformat": 4,
 "nbformat_minor": 5
}
