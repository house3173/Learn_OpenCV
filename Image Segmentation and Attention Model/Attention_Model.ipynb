{
  "nbformat": 4,
  "nbformat_minor": 0,
  "metadata": {
    "colab": {
      "provenance": [],
      "gpuType": "T4"
    },
    "kernelspec": {
      "name": "python3",
      "display_name": "Python 3"
    },
    "language_info": {
      "name": "python"
    },
    "accelerator": "GPU"
  },
  "cells": [
    {
      "cell_type": "code",
      "execution_count": 1,
      "metadata": {
        "id": "_V7HO0ZBvOYq"
      },
      "outputs": [],
      "source": [
        "import tensorflow as tf\n",
        "from tensorflow.keras.layers import GlobalAveragePooling2D, Dense, Reshape, Multiply, Input\n",
        "from tensorflow.keras.models import Model\n",
        "from tensorflow.keras.applications import ResNet50\n",
        "from tensorflow.keras.datasets import cifar10\n",
        "from tensorflow.keras.utils import to_categorical\n",
        "from tensorflow.keras.optimizers import Adam\n",
        "from tensorflow.keras.callbacks import EarlyStopping\n"
      ]
    },
    {
      "cell_type": "code",
      "source": [
        "def se_block(input_tensor, reduction=16):\n",
        "    channel = input_tensor.shape[-1]\n",
        "    se = GlobalAveragePooling2D()(input_tensor)\n",
        "    se = Dense(channel // reduction, activation='relu')(se)\n",
        "    se = Dense(channel, activation='sigmoid')(se)\n",
        "    se = Reshape([1, 1, channel])(se)\n",
        "    x = Multiply()([input_tensor, se])\n",
        "    return x\n",
        "\n",
        "def create_resnet50(input_shape, num_classes):\n",
        "    base_model = ResNet50(weights=None, include_top=False, input_shape=input_shape)\n",
        "    x = base_model.output\n",
        "    x = GlobalAveragePooling2D()(x)\n",
        "    output = Dense(num_classes, activation='softmax')(x)\n",
        "    model = Model(inputs=base_model.input, outputs=output)\n",
        "    return model\n",
        "\n",
        "def create_se_resnet50(input_shape, num_classes):\n",
        "    base_model = ResNet50(weights=None, include_top=False, input_shape=input_shape)\n",
        "    x = base_model.output\n",
        "\n",
        "    # Áp dụng SE Module cho mỗi block\n",
        "    for layer in base_model.layers:\n",
        "        if 'conv' in layer.name:\n",
        "            x = se_block(layer.output)\n",
        "\n",
        "    x = GlobalAveragePooling2D()(x)\n",
        "    output = Dense(num_classes, activation='softmax')(x)\n",
        "    model = Model(inputs=base_model.input, outputs=output)\n",
        "    return model"
      ],
      "metadata": {
        "id": "roVWx5z0v73l"
      },
      "execution_count": 2,
      "outputs": []
    },
    {
      "cell_type": "code",
      "source": [
        "def train_and_evaluate(model, X_train, y_train, X_test, y_test, batch_size=64, epochs=100):\n",
        "    model.compile(optimizer=Adam(), loss='categorical_crossentropy', metrics=['accuracy'])\n",
        "    early_stopping = EarlyStopping(monitor='val_loss', patience=10, restore_best_weights=True)\n",
        "\n",
        "    history = model.fit(X_train, y_train,\n",
        "                        validation_data=(X_test, y_test),\n",
        "                        epochs=epochs,\n",
        "                        batch_size=batch_size,\n",
        "                        callbacks=[early_stopping])\n",
        "\n",
        "    return history, model\n",
        "\n",
        "# Tải dữ liệu CIFAR-10\n",
        "(X_train, y_train), (X_test, y_test) = cifar10.load_data()\n",
        "X_train, X_test = X_train / 255.0, X_test / 255.0\n",
        "y_train, y_test = to_categorical(y_train), to_categorical(y_test)\n",
        "\n",
        "input_shape = X_train.shape[1:]\n",
        "num_classes = y_train.shape[-1]"
      ],
      "metadata": {
        "colab": {
          "base_uri": "https://localhost:8080/"
        },
        "id": "JfVO8IDIwJ1V",
        "outputId": "7dc8ce4f-bfb6-40b9-baf4-e52f92ca7bec"
      },
      "execution_count": 3,
      "outputs": [
        {
          "output_type": "stream",
          "name": "stdout",
          "text": [
            "Downloading data from https://www.cs.toronto.edu/~kriz/cifar-10-python.tar.gz\n",
            "170498071/170498071 [==============================] - 5s 0us/step\n"
          ]
        }
      ]
    },
    {
      "cell_type": "code",
      "source": [
        "# Tạo và huấn luyện ResNet-50\n",
        "resnet50_model = create_resnet50(input_shape, num_classes)\n",
        "history_resnet50, resnet50_model = train_and_evaluate(resnet50_model, X_train, y_train, X_test, y_test)\n"
      ],
      "metadata": {
        "colab": {
          "base_uri": "https://localhost:8080/"
        },
        "id": "6wwYm-jswKZc",
        "outputId": "5e58115f-4bd8-44ff-d767-45f8bd5f584e"
      },
      "execution_count": 4,
      "outputs": [
        {
          "output_type": "stream",
          "name": "stdout",
          "text": [
            "Epoch 1/100\n",
            "782/782 [==============================] - 78s 54ms/step - loss: 1.9366 - accuracy: 0.3712 - val_loss: 2.9579 - val_accuracy: 0.2818\n",
            "Epoch 2/100\n",
            "782/782 [==============================] - 39s 50ms/step - loss: 1.7147 - accuracy: 0.4525 - val_loss: 82.6479 - val_accuracy: 0.1443\n",
            "Epoch 3/100\n",
            "782/782 [==============================] - 40s 51ms/step - loss: 1.7437 - accuracy: 0.4438 - val_loss: 3.1191 - val_accuracy: 0.1993\n",
            "Epoch 4/100\n",
            "782/782 [==============================] - 40s 51ms/step - loss: 1.6576 - accuracy: 0.4588 - val_loss: 13.3134 - val_accuracy: 0.2787\n",
            "Epoch 5/100\n",
            "782/782 [==============================] - 41s 53ms/step - loss: 1.4855 - accuracy: 0.5187 - val_loss: 1.5326 - val_accuracy: 0.4805\n",
            "Epoch 6/100\n",
            "782/782 [==============================] - 41s 53ms/step - loss: 1.2996 - accuracy: 0.5798 - val_loss: 1.3092 - val_accuracy: 0.5460\n",
            "Epoch 7/100\n",
            "782/782 [==============================] - 41s 53ms/step - loss: 1.3833 - accuracy: 0.5349 - val_loss: 2.7855 - val_accuracy: 0.4816\n",
            "Epoch 8/100\n",
            "782/782 [==============================] - 41s 52ms/step - loss: 1.3647 - accuracy: 0.5529 - val_loss: 4.3924 - val_accuracy: 0.2963\n",
            "Epoch 9/100\n",
            "782/782 [==============================] - 41s 52ms/step - loss: 1.6499 - accuracy: 0.4456 - val_loss: 1.4565 - val_accuracy: 0.4856\n",
            "Epoch 10/100\n",
            "782/782 [==============================] - 40s 51ms/step - loss: 1.3234 - accuracy: 0.5597 - val_loss: 1.1662 - val_accuracy: 0.5929\n",
            "Epoch 11/100\n",
            "782/782 [==============================] - 40s 51ms/step - loss: 1.1053 - accuracy: 0.6339 - val_loss: 3.9851 - val_accuracy: 0.4785\n",
            "Epoch 12/100\n",
            "782/782 [==============================] - 40s 51ms/step - loss: 1.2595 - accuracy: 0.5896 - val_loss: 1.6198 - val_accuracy: 0.5543\n",
            "Epoch 13/100\n",
            "782/782 [==============================] - 40s 51ms/step - loss: 1.0206 - accuracy: 0.6602 - val_loss: 1.0961 - val_accuracy: 0.6244\n",
            "Epoch 14/100\n",
            "782/782 [==============================] - 41s 52ms/step - loss: 1.0590 - accuracy: 0.6459 - val_loss: 11.2646 - val_accuracy: 0.2283\n",
            "Epoch 15/100\n",
            "782/782 [==============================] - 40s 51ms/step - loss: 1.0438 - accuracy: 0.6628 - val_loss: 1.3411 - val_accuracy: 0.5420\n",
            "Epoch 16/100\n",
            "782/782 [==============================] - 41s 52ms/step - loss: 1.0498 - accuracy: 0.6512 - val_loss: 1.1897 - val_accuracy: 0.6055\n",
            "Epoch 17/100\n",
            "782/782 [==============================] - 41s 52ms/step - loss: 0.9552 - accuracy: 0.6825 - val_loss: 1.1163 - val_accuracy: 0.6203\n",
            "Epoch 18/100\n",
            "782/782 [==============================] - 41s 53ms/step - loss: 0.8853 - accuracy: 0.7022 - val_loss: 1.0925 - val_accuracy: 0.6413\n",
            "Epoch 19/100\n",
            "782/782 [==============================] - 41s 52ms/step - loss: 0.8975 - accuracy: 0.7039 - val_loss: 2.4993 - val_accuracy: 0.2478\n",
            "Epoch 20/100\n",
            "782/782 [==============================] - 41s 52ms/step - loss: 0.8999 - accuracy: 0.6992 - val_loss: 0.8440 - val_accuracy: 0.7090\n",
            "Epoch 21/100\n",
            "782/782 [==============================] - 40s 51ms/step - loss: 0.8909 - accuracy: 0.6988 - val_loss: 0.8917 - val_accuracy: 0.6901\n",
            "Epoch 22/100\n",
            "782/782 [==============================] - 40s 52ms/step - loss: 0.7173 - accuracy: 0.7541 - val_loss: 0.9438 - val_accuracy: 0.6801\n",
            "Epoch 23/100\n",
            "782/782 [==============================] - 40s 52ms/step - loss: 0.7364 - accuracy: 0.7490 - val_loss: 0.8473 - val_accuracy: 0.7142\n",
            "Epoch 24/100\n",
            "782/782 [==============================] - 40s 51ms/step - loss: 0.6777 - accuracy: 0.7747 - val_loss: 1.4699 - val_accuracy: 0.5716\n",
            "Epoch 25/100\n",
            "782/782 [==============================] - 40s 51ms/step - loss: 0.5412 - accuracy: 0.8161 - val_loss: 0.9799 - val_accuracy: 0.6894\n",
            "Epoch 26/100\n",
            "782/782 [==============================] - 41s 52ms/step - loss: 0.4427 - accuracy: 0.8475 - val_loss: 1.0071 - val_accuracy: 0.6882\n",
            "Epoch 27/100\n",
            "782/782 [==============================] - 40s 52ms/step - loss: 0.3946 - accuracy: 0.8634 - val_loss: 0.9096 - val_accuracy: 0.7237\n",
            "Epoch 28/100\n",
            "782/782 [==============================] - 40s 51ms/step - loss: 0.3032 - accuracy: 0.8962 - val_loss: 1.0172 - val_accuracy: 0.7163\n",
            "Epoch 29/100\n",
            "782/782 [==============================] - 40s 51ms/step - loss: 0.2561 - accuracy: 0.9101 - val_loss: 0.9633 - val_accuracy: 0.7439\n",
            "Epoch 30/100\n",
            "782/782 [==============================] - 41s 52ms/step - loss: 0.2863 - accuracy: 0.9034 - val_loss: 1.1803 - val_accuracy: 0.7083\n"
          ]
        }
      ]
    },
    {
      "cell_type": "code",
      "source": [
        "# Tạo và huấn luyện SE-ResNet-50\n",
        "se_resnet50_model = create_se_resnet50(input_shape, num_classes)\n",
        "history_se_resnet50, se_resnet50_model = train_and_evaluate(se_resnet50_model, X_train, y_train, X_test, y_test)\n"
      ],
      "metadata": {
        "colab": {
          "base_uri": "https://localhost:8080/"
        },
        "id": "wSsplfbVwT4p",
        "outputId": "e681ec1c-3909-4747-ec0c-8c5e1e32157f"
      },
      "execution_count": 5,
      "outputs": [
        {
          "output_type": "stream",
          "name": "stdout",
          "text": [
            "Epoch 1/100\n",
            "782/782 [==============================] - 73s 55ms/step - loss: 1.7313 - accuracy: 0.3994 - val_loss: 6.9156 - val_accuracy: 0.2736\n",
            "Epoch 2/100\n",
            "782/782 [==============================] - 42s 53ms/step - loss: 1.5072 - accuracy: 0.4819 - val_loss: 2.1747 - val_accuracy: 0.2902\n",
            "Epoch 3/100\n",
            "782/782 [==============================] - 41s 52ms/step - loss: 1.3358 - accuracy: 0.5265 - val_loss: 2.2451 - val_accuracy: 0.3090\n",
            "Epoch 4/100\n",
            "782/782 [==============================] - 42s 53ms/step - loss: 1.1935 - accuracy: 0.5776 - val_loss: 2.3712 - val_accuracy: 0.3827\n",
            "Epoch 5/100\n",
            "782/782 [==============================] - 42s 53ms/step - loss: 0.9840 - accuracy: 0.6567 - val_loss: 1.1480 - val_accuracy: 0.5943\n",
            "Epoch 6/100\n",
            "782/782 [==============================] - 40s 51ms/step - loss: 0.8525 - accuracy: 0.7035 - val_loss: 1.2377 - val_accuracy: 0.6045\n",
            "Epoch 7/100\n",
            "782/782 [==============================] - 41s 53ms/step - loss: 0.8089 - accuracy: 0.7211 - val_loss: 1.8969 - val_accuracy: 0.3882\n",
            "Epoch 8/100\n",
            "782/782 [==============================] - 41s 53ms/step - loss: 0.7258 - accuracy: 0.7475 - val_loss: 1.4217 - val_accuracy: 0.5711\n",
            "Epoch 9/100\n",
            "782/782 [==============================] - 41s 53ms/step - loss: 0.6385 - accuracy: 0.7809 - val_loss: 0.9842 - val_accuracy: 0.6659\n",
            "Epoch 10/100\n",
            "782/782 [==============================] - 40s 52ms/step - loss: 0.5492 - accuracy: 0.8101 - val_loss: 0.8486 - val_accuracy: 0.7138\n",
            "Epoch 11/100\n",
            "782/782 [==============================] - 42s 53ms/step - loss: 0.4964 - accuracy: 0.8278 - val_loss: 1.1663 - val_accuracy: 0.6726\n",
            "Epoch 12/100\n",
            "782/782 [==============================] - 41s 53ms/step - loss: 0.4708 - accuracy: 0.8402 - val_loss: 1.0564 - val_accuracy: 0.7061\n",
            "Epoch 13/100\n",
            "782/782 [==============================] - 41s 53ms/step - loss: 0.4531 - accuracy: 0.8463 - val_loss: 2.2096 - val_accuracy: 0.5691\n",
            "Epoch 14/100\n",
            "782/782 [==============================] - 41s 52ms/step - loss: 0.3366 - accuracy: 0.8822 - val_loss: 1.0381 - val_accuracy: 0.7227\n",
            "Epoch 15/100\n",
            "782/782 [==============================] - 40s 51ms/step - loss: 0.2652 - accuracy: 0.9088 - val_loss: 1.1664 - val_accuracy: 0.6985\n",
            "Epoch 16/100\n",
            "782/782 [==============================] - 40s 51ms/step - loss: 0.2206 - accuracy: 0.9245 - val_loss: 1.1000 - val_accuracy: 0.7101\n",
            "Epoch 17/100\n",
            "782/782 [==============================] - 41s 52ms/step - loss: 0.2031 - accuracy: 0.9300 - val_loss: 1.1010 - val_accuracy: 0.7168\n",
            "Epoch 18/100\n",
            "782/782 [==============================] - 40s 51ms/step - loss: 0.1628 - accuracy: 0.9439 - val_loss: 1.0539 - val_accuracy: 0.7475\n",
            "Epoch 19/100\n",
            "782/782 [==============================] - 41s 53ms/step - loss: 0.1698 - accuracy: 0.9416 - val_loss: 1.0491 - val_accuracy: 0.7423\n",
            "Epoch 20/100\n",
            "782/782 [==============================] - 41s 52ms/step - loss: 0.1295 - accuracy: 0.9556 - val_loss: 1.1375 - val_accuracy: 0.7380\n"
          ]
        }
      ]
    },
    {
      "cell_type": "code",
      "source": [
        "# Đánh giá mô hình\n",
        "resnet50_eval = resnet50_model.evaluate(X_test, y_test)\n",
        "se_resnet50_eval = se_resnet50_model.evaluate(X_test, y_test)\n",
        "\n",
        "print(\"ResNet-50 Accuracy: \", resnet50_eval[1])\n",
        "print(\"SE-ResNet-50 Accuracy: \", se_resnet50_eval[1])"
      ],
      "metadata": {
        "colab": {
          "base_uri": "https://localhost:8080/"
        },
        "id": "4nCMvKHtwZxv",
        "outputId": "6121c7c1-9510-4289-c145-2aa1cabe9885"
      },
      "execution_count": 6,
      "outputs": [
        {
          "output_type": "stream",
          "name": "stdout",
          "text": [
            "313/313 [==============================] - 4s 10ms/step - loss: 0.8440 - accuracy: 0.7090\n",
            "313/313 [==============================] - 3s 10ms/step - loss: 0.8486 - accuracy: 0.7138\n",
            "ResNet-50 Accuracy:  0.7089999914169312\n",
            "SE-ResNet-50 Accuracy:  0.7138000130653381\n"
          ]
        }
      ]
    }
  ]
}