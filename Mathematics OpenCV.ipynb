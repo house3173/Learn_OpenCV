{
 "cells": [
  {
   "cell_type": "markdown",
   "id": "5d4d0e5d-1803-4c15-af69-5eb7e5507c5c",
   "metadata": {},
   "source": [
    "<h3>Gradient của một pixel ảnh</h3>"
   ]
  },
  {
   "cell_type": "markdown",
   "id": "cf0c6a8f-7c9c-442c-9749-6b19218f594f",
   "metadata": {},
   "source": [
    "Gradient của pixel ảnh là giúp chúng ta hiểu được cường độ biến đổi của pixel đó trong không gian ảnh. Đạo hàm theo trục X thường cho biết sự biến đổi của pixel theo chiều ngang, trong khi đạo hàm theo trục Y thường cho biết sự biến đổi của pixel theo chiều dọc.\n",
    "\n",
    "Có một số phương pháp phổ biến để tính đạo hàm của một pixel ảnh:\n",
    "<ol>\n",
    "    <li><b>Phương pháp sử dụng lân cận pixel:</b> Đạo hàm có thể được ước lượng bằng cách sử dụng các pixel lân cận để xấp xỉ giá trị đạo hàm. Các kỹ thuật như lọc Sobel hoặc lọc gradient là các ví dụ điển hình. Trong đó, các kernel đặc biệt được áp dụng qua pixel và trọng số của chúng được sử dụng để ước lượng đạo hàm.</li>\n",
    "    <li><b>Phương pháp sử dụng việc tính toán gradient:</b> Gradient của một pixel là vectơ đạo hàm riêng của pixel đó theo trục X và trục Y. Đạo hàm theo trục X được tính bằng sự thay đổi của pixel khi dịch chuyển sang phải hoặc trái, trong khi đạo hàm theo trục Y được tính bằng sự thay đổi của pixel khi dịch chuyển lên hoặc xuống.</li>\n",
    "</ol>"
   ]
  },
  {
   "cell_type": "markdown",
   "id": "810c3c99-db2d-44a2-a4e2-3220facd0955",
   "metadata": {},
   "source": [
    "<h4>Tính Gradient với kernel Sobel</h4>"
   ]
  },
  {
   "cell_type": "markdown",
   "id": "34d6caa3-070a-42b4-967d-a4b03e7df3a8",
   "metadata": {},
   "source": [
    "Gradient có thể được ước lượng dựa vào các pixel lân cận kết hợp với hạt nhân Sobel. Với kích thước hạt nhân là 3x3 thì Kernel Sobel theo hướng X là $\\begin{bmatrix}-1 & 0 & 1\\\\ -2 & 0 & 2\\\\ -1 & 0 & 1\\end{bmatrix}$ và Kernel Sobel theo hướng Y là $\\begin{bmatrix}-1 & -2 & -1\\\\ 0 & 0 & 0\\\\ 1 & 2 & 1\n",
    "\\end{bmatrix}$\n",
    "\n",
    "Khi đó Grdient của pixel (x,y) có cường độ I(x,y) theo các trục X, Y sẽ là một phép nhân tích chập của kernel và ma trận cường độ với pixel (x,y) là trung tâm. Ký hiệu kết quả là $G_{x}$ và $G_{y}$\n",
    "\n",
    "rix}"
   ]
  },
  {
   "cell_type": "markdown",
   "id": "fa8791c9-56f0-4dfb-a061-d561a473a481",
   "metadata": {},
   "source": [
    "Hướng gradient tại một pixel ảnh xác định hướng mà cường độ tăng nhanh nhất của hàm số, tức là hướng mà giá trị của hàm số thay đổi nhanh nhất. Trong ngữ cảnh của xử lý ảnh, hướng gradient thường được sử dụng để mô tả hướng của sự biến đổi cường độ (hoặc sự thay đổi mạnh mẽ) của pixel ảnh.\n",
    "\n",
    "Công thức xác định hướng gradient là: $\\theta = \\arctan (\\frac{G_{y}}{G_{x}})$\n",
    "\n",
    "Giá trị của 𝜃 thường được tính trong khoảng từ 0 đến 360 độ hoặc từ -180 đến 180 độ, đại diện cho hướng của gradient tại pixel đó. Ví dụ, nếu 𝜃 = 0 hoặc 𝜃 = 360 thì gradient hướng về phía bên phải, nếu 𝜃 = 90 thì gradient hướng lên trên"
   ]
  },
  {
   "cell_type": "code",
   "execution_count": 2,
   "id": "92f410f4-a56d-4d30-99fa-77bd914921bd",
   "metadata": {},
   "outputs": [
    {
     "data": {
      "text/plain": [
       "<matplotlib.image.AxesImage at 0x2127f915d50>"
      ]
     },
     "execution_count": 2,
     "metadata": {},
     "output_type": "execute_result"
    },
    {
     "data": {
      "image/png": "[encoded data removed]",
      "text/plain": [
       "<Figure size 640x480 with 1 Axes>"
      ]
     },
     "metadata": {},
     "output_type": "display_data"
    }
   ],
   "source": [
    "import numpy as np\n",
    "import matplotlib.pyplot as plt\n",
    "\n",
    "image = np.array([[180 , 120 , 80]  , [100 , 150 , 250] , [50  , 70  , 90 ]])\n",
    "\n",
    "plt.imshow(image, cmap='gray')"
   ]
  },
  {
   "cell_type": "code",
   "execution_count": null,
   "id": "16ade1a3-1d89-4d85-a540-25470a00c43b",
   "metadata": {},
   "outputs": [],
   "source": []
  }
 ],
 "metadata": {
  "kernelspec": {
   "display_name": "Python 3 (ipykernel)",
   "language": "python",
   "name": "python3"
  },
  "language_info": {
   "codemirror_mode": {
    "name": "ipython",
    "version": 3
   },
   "file_extension": ".py",
   "mimetype": "text/x-python",
   "name": "python",
   "nbconvert_exporter": "python",
   "pygments_lexer": "ipython3",
   "version": "3.11.6"
  }
 },
 "nbformat": 4,
 "nbformat_minor": 5
}
