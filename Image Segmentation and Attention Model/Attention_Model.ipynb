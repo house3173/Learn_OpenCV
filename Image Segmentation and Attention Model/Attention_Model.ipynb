{
  "nbformat": 4,
  "nbformat_minor": 0,
  "metadata": {
    "colab": {
      "provenance": [],
      "gpuType": "T4"
    },
    "kernelspec": {
      "name": "python3",
      "display_name": "Python 3"
    },
    "language_info": {
      "name": "python"
    },
    "accelerator": "GPU"
  },
  "cells": [
    {
      "cell_type": "markdown",
      "source": [
        "<p><strong>Channel Attention - SE Module</strong></p>\n",
        "<img src=\"https://images.viblo.asia/1df5dad3-4fd1-494e-bb81-f78f3a3ed1d6.png\">"
      ],
      "metadata": {
        "id": "Mph6txlbWPOq"
      }
    },
    {
      "cell_type": "code",
      "execution_count": null,
      "metadata": {
        "id": "_V7HO0ZBvOYq"
      },
      "outputs": [],
      "source": [
        "import tensorflow as tf\n",
        "from tensorflow.keras.layers import GlobalAveragePooling2D, Dense, Reshape, Multiply, Input\n",
        "from tensorflow.keras.models import Model\n",
        "from tensorflow.keras.applications import ResNet50\n",
        "from tensorflow.keras.datasets import cifar10\n",
        "from tensorflow.keras.utils import to_categorical\n",
        "from tensorflow.keras.optimizers import Adam\n",
        "from tensorflow.keras.callbacks import EarlyStopping\n"
      ]
    },
    {
      "cell_type": "code",
      "source": [
        "def se_block(input_tensor, reduction=16):\n",
        "    channel = input_tensor.shape[-1]\n",
        "    se = GlobalAveragePooling2D()(input_tensor)\n",
        "    se = Dense(channel // reduction, activation='relu')(se)\n",
        "    se = Dense(channel, activation='sigmoid')(se)\n",
        "    se = Reshape([1, 1, channel])(se)\n",
        "    x = Multiply()([input_tensor, se])\n",
        "    return x\n",
        "\n",
        "def create_resnet50(input_shape, num_classes):\n",
        "    base_model = ResNet50(weights=None, include_top=False, input_shape=input_shape)\n",
        "    x = base_model.output\n",
        "    x = GlobalAveragePooling2D()(x)\n",
        "    output = Dense(num_classes, activation='softmax')(x)\n",
        "    model = Model(inputs=base_model.input, outputs=output)\n",
        "    return model\n",
        "\n",
        "def create_se_resnet50(input_shape, num_classes):\n",
        "    base_model = ResNet50(weights=None, include_top=False, input_shape=input_shape)\n",
        "    x = base_model.output\n",
        "\n",
        "    # Áp dụng SE Module cho mỗi block\n",
        "    for layer in base_model.layers:\n",
        "        if 'conv' in layer.name:\n",
        "            x = se_block(layer.output)\n",
        "\n",
        "    x = GlobalAveragePooling2D()(x)\n",
        "    output = Dense(num_classes, activation='softmax')(x)\n",
        "    model = Model(inputs=base_model.input, outputs=output)\n",
        "    return model"
      ],
      "metadata": {
        "id": "roVWx5z0v73l"
      },
      "execution_count": null,
      "outputs": []
    },
    {
      "cell_type": "code",
      "source": [
        "def train_and_evaluate(model, X_train, y_train, X_test, y_test, batch_size=64, epochs=100):\n",
        "    model.compile(optimizer=Adam(), loss='categorical_crossentropy', metrics=['accuracy'])\n",
        "    early_stopping = EarlyStopping(monitor='val_loss', patience=10, restore_best_weights=True)\n",
        "\n",
        "    history = model.fit(X_train, y_train,\n",
        "                        validation_data=(X_test, y_test),\n",
        "                        epochs=epochs,\n",
        "                        batch_size=batch_size,\n",
        "                        callbacks=[early_stopping])\n",
        "\n",
        "    return history, model\n",
        "\n",
        "# Tải dữ liệu CIFAR-10\n",
        "(X_train, y_train), (X_test, y_test) = cifar10.load_data()\n",
        "X_train, X_test = X_train / 255.0, X_test / 255.0\n",
        "y_train, y_test = to_categorical(y_train), to_categorical(y_test)\n",
        "\n",
        "input_shape = X_train.shape[1:]\n",
        "num_classes = y_train.shape[-1]"
      ],
      "metadata": {
        "colab": {
          "base_uri": "https://localhost:8080/"
        },
        "id": "JfVO8IDIwJ1V",
        "outputId": "7dc8ce4f-bfb6-40b9-baf4-e52f92ca7bec"
      },
      "execution_count": null,
      "outputs": [
        {
          "output_type": "stream",
          "name": "stdout",
          "text": [
            "Downloading data from https://www.cs.toronto.edu/~kriz/cifar-10-python.tar.gz\n",
            "170498071/170498071 [==============================] - 5s 0us/step\n"
          ]
        }
      ]
    },
    {
      "cell_type": "code",
      "source": [
        "# Tạo và huấn luyện ResNet-50\n",
        "resnet50_model = create_resnet50(input_shape, num_classes)\n",
        "history_resnet50, resnet50_model = train_and_evaluate(resnet50_model, X_train, y_train, X_test, y_test)\n"
      ],
      "metadata": {
        "colab": {
          "base_uri": "https://localhost:8080/"
        },
        "id": "6wwYm-jswKZc",
        "outputId": "5e58115f-4bd8-44ff-d767-45f8bd5f584e"
      },
      "execution_count": null,
      "outputs": [
        {
          "output_type": "stream",
          "name": "stdout",
          "text": [
            "Epoch 1/100\n",
            "782/782 [==============================] - 78s 54ms/step - loss: 1.9366 - accuracy: 0.3712 - val_loss: 2.9579 - val_accuracy: 0.2818\n",
            "Epoch 2/100\n",
            "782/782 [==============================] - 39s 50ms/step - loss: 1.7147 - accuracy: 0.4525 - val_loss: 82.6479 - val_accuracy: 0.1443\n",
            "Epoch 3/100\n",
            "782/782 [==============================] - 40s 51ms/step - loss: 1.7437 - accuracy: 0.4438 - val_loss: 3.1191 - val_accuracy: 0.1993\n",
            "Epoch 4/100\n",
            "782/782 [==============================] - 40s 51ms/step - loss: 1.6576 - accuracy: 0.4588 - val_loss: 13.3134 - val_accuracy: 0.2787\n",
            "Epoch 5/100\n",
            "782/782 [==============================] - 41s 53ms/step - loss: 1.4855 - accuracy: 0.5187 - val_loss: 1.5326 - val_accuracy: 0.4805\n",
            "Epoch 6/100\n",
            "782/782 [==============================] - 41s 53ms/step - loss: 1.2996 - accuracy: 0.5798 - val_loss: 1.3092 - val_accuracy: 0.5460\n",
            "Epoch 7/100\n",
            "782/782 [==============================] - 41s 53ms/step - loss: 1.3833 - accuracy: 0.5349 - val_loss: 2.7855 - val_accuracy: 0.4816\n",
            "Epoch 8/100\n",
            "782/782 [==============================] - 41s 52ms/step - loss: 1.3647 - accuracy: 0.5529 - val_loss: 4.3924 - val_accuracy: 0.2963\n",
            "Epoch 9/100\n",
            "782/782 [==============================] - 41s 52ms/step - loss: 1.6499 - accuracy: 0.4456 - val_loss: 1.4565 - val_accuracy: 0.4856\n",
            "Epoch 10/100\n",
            "782/782 [==============================] - 40s 51ms/step - loss: 1.3234 - accuracy: 0.5597 - val_loss: 1.1662 - val_accuracy: 0.5929\n",
            "Epoch 11/100\n",
            "782/782 [==============================] - 40s 51ms/step - loss: 1.1053 - accuracy: 0.6339 - val_loss: 3.9851 - val_accuracy: 0.4785\n",
            "Epoch 12/100\n",
            "782/782 [==============================] - 40s 51ms/step - loss: 1.2595 - accuracy: 0.5896 - val_loss: 1.6198 - val_accuracy: 0.5543\n",
            "Epoch 13/100\n",
            "782/782 [==============================] - 40s 51ms/step - loss: 1.0206 - accuracy: 0.6602 - val_loss: 1.0961 - val_accuracy: 0.6244\n",
            "Epoch 14/100\n",
            "782/782 [==============================] - 41s 52ms/step - loss: 1.0590 - accuracy: 0.6459 - val_loss: 11.2646 - val_accuracy: 0.2283\n",
            "Epoch 15/100\n",
            "782/782 [==============================] - 40s 51ms/step - loss: 1.0438 - accuracy: 0.6628 - val_loss: 1.3411 - val_accuracy: 0.5420\n",
            "Epoch 16/100\n",
            "782/782 [==============================] - 41s 52ms/step - loss: 1.0498 - accuracy: 0.6512 - val_loss: 1.1897 - val_accuracy: 0.6055\n",
            "Epoch 17/100\n",
            "782/782 [==============================] - 41s 52ms/step - loss: 0.9552 - accuracy: 0.6825 - val_loss: 1.1163 - val_accuracy: 0.6203\n",
            "Epoch 18/100\n",
            "782/782 [==============================] - 41s 53ms/step - loss: 0.8853 - accuracy: 0.7022 - val_loss: 1.0925 - val_accuracy: 0.6413\n",
            "Epoch 19/100\n",
            "782/782 [==============================] - 41s 52ms/step - loss: 0.8975 - accuracy: 0.7039 - val_loss: 2.4993 - val_accuracy: 0.2478\n",
            "Epoch 20/100\n",
            "782/782 [==============================] - 41s 52ms/step - loss: 0.8999 - accuracy: 0.6992 - val_loss: 0.8440 - val_accuracy: 0.7090\n",
            "Epoch 21/100\n",
            "782/782 [==============================] - 40s 51ms/step - loss: 0.8909 - accuracy: 0.6988 - val_loss: 0.8917 - val_accuracy: 0.6901\n",
            "Epoch 22/100\n",
            "782/782 [==============================] - 40s 52ms/step - loss: 0.7173 - accuracy: 0.7541 - val_loss: 0.9438 - val_accuracy: 0.6801\n",
            "Epoch 23/100\n",
            "782/782 [==============================] - 40s 52ms/step - loss: 0.7364 - accuracy: 0.7490 - val_loss: 0.8473 - val_accuracy: 0.7142\n",
            "Epoch 24/100\n",
            "782/782 [==============================] - 40s 51ms/step - loss: 0.6777 - accuracy: 0.7747 - val_loss: 1.4699 - val_accuracy: 0.5716\n",
            "Epoch 25/100\n",
            "782/782 [==============================] - 40s 51ms/step - loss: 0.5412 - accuracy: 0.8161 - val_loss: 0.9799 - val_accuracy: 0.6894\n",
            "Epoch 26/100\n",
            "782/782 [==============================] - 41s 52ms/step - loss: 0.4427 - accuracy: 0.8475 - val_loss: 1.0071 - val_accuracy: 0.6882\n",
            "Epoch 27/100\n",
            "782/782 [==============================] - 40s 52ms/step - loss: 0.3946 - accuracy: 0.8634 - val_loss: 0.9096 - val_accuracy: 0.7237\n",
            "Epoch 28/100\n",
            "782/782 [==============================] - 40s 51ms/step - loss: 0.3032 - accuracy: 0.8962 - val_loss: 1.0172 - val_accuracy: 0.7163\n",
            "Epoch 29/100\n",
            "782/782 [==============================] - 40s 51ms/step - loss: 0.2561 - accuracy: 0.9101 - val_loss: 0.9633 - val_accuracy: 0.7439\n",
            "Epoch 30/100\n",
            "782/782 [==============================] - 41s 52ms/step - loss: 0.2863 - accuracy: 0.9034 - val_loss: 1.1803 - val_accuracy: 0.7083\n"
          ]
        }
      ]
    },
    {
      "cell_type": "code",
      "source": [
        "# Tạo và huấn luyện SE-ResNet-50\n",
        "se_resnet50_model = create_se_resnet50(input_shape, num_classes)\n",
        "history_se_resnet50, se_resnet50_model = train_and_evaluate(se_resnet50_model, X_train, y_train, X_test, y_test)\n"
      ],
      "metadata": {
        "colab": {
          "base_uri": "https://localhost:8080/"
        },
        "id": "wSsplfbVwT4p",
        "outputId": "e681ec1c-3909-4747-ec0c-8c5e1e32157f"
      },
      "execution_count": null,
      "outputs": [
        {
          "output_type": "stream",
          "name": "stdout",
          "text": [
            "Epoch 1/100\n",
            "782/782 [==============================] - 73s 55ms/step - loss: 1.7313 - accuracy: 0.3994 - val_loss: 6.9156 - val_accuracy: 0.2736\n",
            "Epoch 2/100\n",
            "782/782 [==============================] - 42s 53ms/step - loss: 1.5072 - accuracy: 0.4819 - val_loss: 2.1747 - val_accuracy: 0.2902\n",
            "Epoch 3/100\n",
            "782/782 [==============================] - 41s 52ms/step - loss: 1.3358 - accuracy: 0.5265 - val_loss: 2.2451 - val_accuracy: 0.3090\n",
            "Epoch 4/100\n",
            "782/782 [==============================] - 42s 53ms/step - loss: 1.1935 - accuracy: 0.5776 - val_loss: 2.3712 - val_accuracy: 0.3827\n",
            "Epoch 5/100\n",
            "782/782 [==============================] - 42s 53ms/step - loss: 0.9840 - accuracy: 0.6567 - val_loss: 1.1480 - val_accuracy: 0.5943\n",
            "Epoch 6/100\n",
            "782/782 [==============================] - 40s 51ms/step - loss: 0.8525 - accuracy: 0.7035 - val_loss: 1.2377 - val_accuracy: 0.6045\n",
            "Epoch 7/100\n",
            "782/782 [==============================] - 41s 53ms/step - loss: 0.8089 - accuracy: 0.7211 - val_loss: 1.8969 - val_accuracy: 0.3882\n",
            "Epoch 8/100\n",
            "782/782 [==============================] - 41s 53ms/step - loss: 0.7258 - accuracy: 0.7475 - val_loss: 1.4217 - val_accuracy: 0.5711\n",
            "Epoch 9/100\n",
            "782/782 [==============================] - 41s 53ms/step - loss: 0.6385 - accuracy: 0.7809 - val_loss: 0.9842 - val_accuracy: 0.6659\n",
            "Epoch 10/100\n",
            "782/782 [==============================] - 40s 52ms/step - loss: 0.5492 - accuracy: 0.8101 - val_loss: 0.8486 - val_accuracy: 0.7138\n",
            "Epoch 11/100\n",
            "782/782 [==============================] - 42s 53ms/step - loss: 0.4964 - accuracy: 0.8278 - val_loss: 1.1663 - val_accuracy: 0.6726\n",
            "Epoch 12/100\n",
            "782/782 [==============================] - 41s 53ms/step - loss: 0.4708 - accuracy: 0.8402 - val_loss: 1.0564 - val_accuracy: 0.7061\n",
            "Epoch 13/100\n",
            "782/782 [==============================] - 41s 53ms/step - loss: 0.4531 - accuracy: 0.8463 - val_loss: 2.2096 - val_accuracy: 0.5691\n",
            "Epoch 14/100\n",
            "782/782 [==============================] - 41s 52ms/step - loss: 0.3366 - accuracy: 0.8822 - val_loss: 1.0381 - val_accuracy: 0.7227\n",
            "Epoch 15/100\n",
            "782/782 [==============================] - 40s 51ms/step - loss: 0.2652 - accuracy: 0.9088 - val_loss: 1.1664 - val_accuracy: 0.6985\n",
            "Epoch 16/100\n",
            "782/782 [==============================] - 40s 51ms/step - loss: 0.2206 - accuracy: 0.9245 - val_loss: 1.1000 - val_accuracy: 0.7101\n",
            "Epoch 17/100\n",
            "782/782 [==============================] - 41s 52ms/step - loss: 0.2031 - accuracy: 0.9300 - val_loss: 1.1010 - val_accuracy: 0.7168\n",
            "Epoch 18/100\n",
            "782/782 [==============================] - 40s 51ms/step - loss: 0.1628 - accuracy: 0.9439 - val_loss: 1.0539 - val_accuracy: 0.7475\n",
            "Epoch 19/100\n",
            "782/782 [==============================] - 41s 53ms/step - loss: 0.1698 - accuracy: 0.9416 - val_loss: 1.0491 - val_accuracy: 0.7423\n",
            "Epoch 20/100\n",
            "782/782 [==============================] - 41s 52ms/step - loss: 0.1295 - accuracy: 0.9556 - val_loss: 1.1375 - val_accuracy: 0.7380\n"
          ]
        }
      ]
    },
    {
      "cell_type": "code",
      "source": [
        "# Đánh giá mô hình\n",
        "resnet50_eval = resnet50_model.evaluate(X_test, y_test)\n",
        "se_resnet50_eval = se_resnet50_model.evaluate(X_test, y_test)\n",
        "\n",
        "print(\"ResNet-50 Accuracy: \", resnet50_eval[1])\n",
        "print(\"SE-ResNet-50 Accuracy: \", se_resnet50_eval[1])"
      ],
      "metadata": {
        "colab": {
          "base_uri": "https://localhost:8080/"
        },
        "id": "4nCMvKHtwZxv",
        "outputId": "6121c7c1-9510-4289-c145-2aa1cabe9885"
      },
      "execution_count": null,
      "outputs": [
        {
          "output_type": "stream",
          "name": "stdout",
          "text": [
            "313/313 [==============================] - 4s 10ms/step - loss: 0.8440 - accuracy: 0.7090\n",
            "313/313 [==============================] - 3s 10ms/step - loss: 0.8486 - accuracy: 0.7138\n",
            "ResNet-50 Accuracy:  0.7089999914169312\n",
            "SE-ResNet-50 Accuracy:  0.7138000130653381\n"
          ]
        }
      ]
    },
    {
      "cell_type": "markdown",
      "source": [
        "**Spatial Attention - Deformable Convolution** <br>\n",
        "<div style=\"text-align: center\">\n",
        "<img  src=\"https://images.viblo.asia/full/039ec952-9ceb-4c2d-b2cc-be85332d6dbc.png\" >\n",
        "\n",
        "<img src=\"https://images.viblo.asia/5fabf07f-80d1-44c3-8e17-b3cd9ce33ea8.png\">\n",
        "\n",
        "\n",
        "<img src=\"https://images.viblo.asia/full/70f87d1c-a3a3-450d-8aa9-179a95c9c1a3.png\">\n",
        "\n",
        "</div>"
      ],
      "metadata": {
        "id": "3itWr3VLbsYG"
      }
    },
    {
      "cell_type": "code",
      "source": [
        "import tensorflow as tf\n",
        "from tensorflow.keras.layers import Layer, Conv2D, GlobalAveragePooling2D, Dense, Reshape, Multiply, Input, BatchNormalization, ReLU, Add, Flatten\n",
        "from tensorflow.keras.models import Model\n",
        "from tensorflow.keras.datasets import cifar10\n",
        "from tensorflow.keras.utils import to_categorical\n",
        "from tensorflow.keras.optimizers import Adam\n",
        "from tensorflow.keras.callbacks import EarlyStopping\n",
        "import numpy as np\n"
      ],
      "metadata": {
        "id": "wJZFyXJDb1Zf"
      },
      "execution_count": null,
      "outputs": []
    },
    {
      "cell_type": "code",
      "source": [
        "class DeformableConv2D(Layer):\n",
        "    def __init__(self, filters, kernel_size, **kwargs):\n",
        "        self.filters = filters\n",
        "        self.kernel_size = kernel_size\n",
        "        super(DeformableConv2D, self).__init__(**kwargs)\n",
        "\n",
        "    def build(self, input_shape):\n",
        "        self.offset_conv = Conv2D(2 * self.kernel_size * self.kernel_size,\n",
        "                                  kernel_size=self.kernel_size,\n",
        "                                  padding='same',\n",
        "                                  use_bias=False)\n",
        "        self.regular_conv = Conv2D(self.filters,\n",
        "                                   kernel_size=self.kernel_size,\n",
        "                                   padding='same')\n",
        "        super(DeformableConv2D, self).build(input_shape)\n",
        "\n",
        "    def call(self, inputs):\n",
        "        offset = self.offset_conv(inputs)\n",
        "        return self.deformable_conv2d(inputs, offset)\n",
        "\n",
        "    def deformable_conv2d(self, x, offset):\n",
        "        _, h, w, _ = x.shape\n",
        "        grid_x, grid_y = tf.meshgrid(tf.range(w), tf.range(h))\n",
        "        grid = tf.stack([grid_x, grid_y], axis=-1)\n",
        "        grid = tf.cast(grid, tf.float32)\n",
        "\n",
        "        offsets = tf.reshape(offset, (-1, h, w, self.kernel_size, self.kernel_size, 2))\n",
        "        offsets = tf.reduce_mean(offsets, axis=[-3, -2], keepdims=True)\n",
        "\n",
        "        grid = grid + offsets[:,:,:,0,0,:] # Extract the relevant part of offsets\n",
        "        grid = tf.clip_by_value(grid, 0, h-1)\n",
        "        grid = tf.round(grid)  # Convert to integer\n",
        "\n",
        "        grid = tf.cast(grid, tf.int32)\n",
        "        batch_indices = tf.range(tf.shape(x)[0])\n",
        "        batch_indices = tf.reshape(batch_indices, (-1, 1, 1, 1))\n",
        "        batch_indices = tf.tile(batch_indices, (1, h, w, 1))\n",
        "        batch_indices = tf.cast(batch_indices, tf.int32)\n",
        "\n",
        "        indices = tf.concat([batch_indices, grid], axis=-1) # Now both tensors have rank 4\n",
        "        sampled_input = tf.gather_nd(x, indices)\n",
        "        sampled_input = tf.reshape(sampled_input, (-1, h, w, x.shape[-1]))\n",
        "\n",
        "        return self.regular_conv(sampled_input)\n",
        "\n",
        "    def compute_output_shape(self, input_shape):\n",
        "        return (input_shape[0], input_shape[1], input_shape[2], self.filters)\n",
        "\n",
        "def spatial_attention(input_tensor):\n",
        "    avg_pool = tf.reduce_mean(input_tensor, axis=-1, keepdims=True)\n",
        "    max_pool = tf.reduce_max(input_tensor, axis=-1, keepdims=True)\n",
        "    concat = tf.concat([avg_pool, max_pool], axis=-1)\n",
        "    attention = Conv2D(1, kernel_size=7, padding='same', activation='sigmoid')(concat)\n",
        "    return input_tensor * attention"
      ],
      "metadata": {
        "id": "eR-2rwxIb7SZ"
      },
      "execution_count": null,
      "outputs": []
    },
    {
      "cell_type": "code",
      "source": [
        "def create_basic_model(input_shape, num_classes):\n",
        "    inputs = tf.keras.Input(shape=input_shape)\n",
        "    x = Conv2D(32, kernel_size=3, padding='same', activation='relu')(inputs)\n",
        "    x = Conv2D(32, kernel_size=3, padding='same', activation='relu')(x)\n",
        "    x = tf.keras.layers.BatchNormalization()(x)\n",
        "    x = tf.keras.layers.Flatten()(x)\n",
        "    x = tf.keras.layers.Dense(128, activation='relu')(x)\n",
        "    outputs = tf.keras.layers.Dense(num_classes, activation='softmax')(x)\n",
        "    model = tf.keras.Model(inputs, outputs)\n",
        "    return model\n",
        "\n",
        "def create_advanced_model(input_shape, num_classes):\n",
        "    inputs = tf.keras.Input(shape=input_shape)\n",
        "    x = Conv2D(32, kernel_size=3, padding='same')(inputs)\n",
        "    x = tf.keras.layers.BatchNormalization()(x)\n",
        "    x = tf.keras.layers.ReLU()(x)\n",
        "\n",
        "    # Deformable Convolution\n",
        "    x = DeformableConv2D(32, kernel_size=3)(x)\n",
        "    x = tf.keras.layers.BatchNormalization()(x)\n",
        "    x = tf.keras.layers.ReLU()(x)\n",
        "\n",
        "    # Spatial Attention\n",
        "    x = spatial_attention(x)\n",
        "\n",
        "    x = tf.keras.layers.Flatten()(x)\n",
        "    x = tf.keras.layers.Dense(128, activation='relu')(x)\n",
        "    outputs = tf.keras.layers.Dense(num_classes, activation='softmax')(x)\n",
        "    model = tf.keras.Model(inputs, outputs)\n",
        "    return model\n",
        "\n",
        "def train_and_evaluate(model, X_train, y_train, X_test, y_test, batch_size=64, epochs=100):\n",
        "    model.compile(optimizer=tf.keras.optimizers.Adam(), loss='categorical_crossentropy', metrics=['accuracy'])\n",
        "    early_stopping = tf.keras.callbacks.EarlyStopping(monitor='val_loss', patience=10, restore_best_weights=True)\n",
        "\n",
        "    history = model.fit(X_train, y_train,\n",
        "                        validation_data=(X_test, y_test),\n",
        "                        epochs=epochs,\n",
        "                        batch_size=batch_size,\n",
        "                        callbacks=[early_stopping])\n",
        "\n",
        "    return history, model\n"
      ],
      "metadata": {
        "id": "nWBf8WcsgZoy"
      },
      "execution_count": null,
      "outputs": []
    },
    {
      "cell_type": "code",
      "source": [
        "def train_and_evaluate(model, X_train, y_train, X_test, y_test, batch_size=64, epochs=100):\n",
        "    model.compile(optimizer=Adam(), loss='categorical_crossentropy', metrics=['accuracy'])\n",
        "    early_stopping = EarlyStopping(monitor='val_loss', patience=10, restore_best_weights=True)\n",
        "\n",
        "    history = model.fit(X_train, y_train,\n",
        "                        validation_data=(X_test, y_test),\n",
        "                        epochs=epochs,\n",
        "                        batch_size=batch_size,\n",
        "                        callbacks=[early_stopping])\n",
        "\n",
        "    return history, model\n",
        "\n",
        "#Tải dữ liệu CIFAR-10\n",
        "(X_train, y_train), (X_test, y_test) = tf.keras.datasets.cifar10.load_data()\n",
        "X_train, X_test = X_train / 255.0, X_test / 255.0\n",
        "y_train, y_test = tf.keras.utils.to_categorical(y_train), tf.keras.utils.to_categorical(y_test)\n",
        "\n",
        "input_shape = X_train.shape[1:]\n",
        "num_classes = y_train.shape[-1]"
      ],
      "metadata": {
        "id": "wwQMRJUogenJ"
      },
      "execution_count": null,
      "outputs": []
    },
    {
      "cell_type": "code",
      "source": [
        "# Tạo và huấn luyện mô hình cơ bản\n",
        "basic_model = create_basic_model(input_shape, num_classes)\n",
        "history_basic, basic_model = train_and_evaluate(basic_model, X_train, y_train, X_test, y_test)"
      ],
      "metadata": {
        "colab": {
          "base_uri": "https://localhost:8080/"
        },
        "id": "BV0kQeITgkOi",
        "outputId": "b54c0d16-085e-4cf6-ffaa-9d81a7bad329"
      },
      "execution_count": null,
      "outputs": [
        {
          "output_type": "stream",
          "name": "stdout",
          "text": [
            "Epoch 1/100\n",
            "782/782 [==============================] - 7s 8ms/step - loss: 1.3608 - accuracy: 0.5194 - val_loss: 1.1671 - val_accuracy: 0.5786\n",
            "Epoch 2/100\n",
            "782/782 [==============================] - 6s 7ms/step - loss: 0.8776 - accuracy: 0.6916 - val_loss: 1.3081 - val_accuracy: 0.5514\n",
            "Epoch 3/100\n",
            "782/782 [==============================] - 5s 7ms/step - loss: 0.5613 - accuracy: 0.8033 - val_loss: 1.2168 - val_accuracy: 0.6203\n",
            "Epoch 4/100\n",
            "782/782 [==============================] - 6s 7ms/step - loss: 0.2986 - accuracy: 0.8971 - val_loss: 1.5367 - val_accuracy: 0.6202\n",
            "Epoch 5/100\n",
            "782/782 [==============================] - 6s 7ms/step - loss: 0.1688 - accuracy: 0.9438 - val_loss: 3.0049 - val_accuracy: 0.5278\n",
            "Epoch 6/100\n",
            "782/782 [==============================] - 5s 7ms/step - loss: 0.1291 - accuracy: 0.9573 - val_loss: 2.3852 - val_accuracy: 0.5986\n",
            "Epoch 7/100\n",
            "782/782 [==============================] - 6s 7ms/step - loss: 0.1092 - accuracy: 0.9645 - val_loss: 2.6861 - val_accuracy: 0.5951\n",
            "Epoch 8/100\n",
            "782/782 [==============================] - 5s 7ms/step - loss: 0.1027 - accuracy: 0.9670 - val_loss: 2.8900 - val_accuracy: 0.6023\n",
            "Epoch 9/100\n",
            "782/782 [==============================] - 7s 9ms/step - loss: 0.0784 - accuracy: 0.9742 - val_loss: 3.3436 - val_accuracy: 0.5917\n",
            "Epoch 10/100\n",
            "782/782 [==============================] - 6s 7ms/step - loss: 0.0609 - accuracy: 0.9811 - val_loss: 3.2425 - val_accuracy: 0.5968\n",
            "Epoch 11/100\n",
            "782/782 [==============================] - 6s 7ms/step - loss: 0.0739 - accuracy: 0.9771 - val_loss: 3.6852 - val_accuracy: 0.5908\n"
          ]
        }
      ]
    },
    {
      "cell_type": "code",
      "source": [
        "# Tạo và huấn luyện mô hình nâng cao với Deformable Convolution và Spatial Attention\n",
        "advanced_model = create_advanced_model(input_shape, num_classes)\n",
        "history_advanced, advanced_model = train_and_evaluate(advanced_model, X_train, y_train, X_test, y_test)"
      ],
      "metadata": {
        "colab": {
          "base_uri": "https://localhost:8080/"
        },
        "id": "UxONjMRkg_OI",
        "outputId": "f6ff3c85-cef3-442a-dc23-34f03ccac108"
      },
      "execution_count": null,
      "outputs": [
        {
          "output_type": "stream",
          "name": "stdout",
          "text": [
            "Epoch 1/100\n"
          ]
        },
        {
          "output_type": "stream",
          "name": "stderr",
          "text": [
            "WARNING:tensorflow:Gradients do not exist for variables ['deformable_conv2d/conv2d/kernel:0'] when minimizing the loss. If you're using `model.compile()`, did you forget to provide a `loss` argument?\n",
            "WARNING:tensorflow:Gradients do not exist for variables ['deformable_conv2d/conv2d/kernel:0'] when minimizing the loss. If you're using `model.compile()`, did you forget to provide a `loss` argument?\n",
            "WARNING:tensorflow:Gradients do not exist for variables ['deformable_conv2d/conv2d/kernel:0'] when minimizing the loss. If you're using `model.compile()`, did you forget to provide a `loss` argument?\n",
            "WARNING:tensorflow:Gradients do not exist for variables ['deformable_conv2d/conv2d/kernel:0'] when minimizing the loss. If you're using `model.compile()`, did you forget to provide a `loss` argument?\n"
          ]
        },
        {
          "output_type": "stream",
          "name": "stdout",
          "text": [
            "782/782 [==============================] - 18s 14ms/step - loss: 1.3674 - accuracy: 0.5139 - val_loss: 1.6372 - val_accuracy: 0.4622\n",
            "Epoch 2/100\n",
            "782/782 [==============================] - 9s 12ms/step - loss: 0.9599 - accuracy: 0.6608 - val_loss: 1.0370 - val_accuracy: 0.6333\n",
            "Epoch 3/100\n",
            "782/782 [==============================] - 10s 13ms/step - loss: 0.7765 - accuracy: 0.7263 - val_loss: 1.0537 - val_accuracy: 0.6267\n",
            "Epoch 4/100\n",
            "782/782 [==============================] - 10s 13ms/step - loss: 0.6183 - accuracy: 0.7839 - val_loss: 1.3358 - val_accuracy: 0.5883\n",
            "Epoch 5/100\n",
            "782/782 [==============================] - 10s 13ms/step - loss: 0.4697 - accuracy: 0.8355 - val_loss: 1.1856 - val_accuracy: 0.6328\n",
            "Epoch 6/100\n",
            "782/782 [==============================] - 10s 13ms/step - loss: 0.3400 - accuracy: 0.8822 - val_loss: 2.6312 - val_accuracy: 0.5071\n",
            "Epoch 7/100\n",
            "782/782 [==============================] - 10s 12ms/step - loss: 0.2496 - accuracy: 0.9134 - val_loss: 1.7060 - val_accuracy: 0.6098\n",
            "Epoch 8/100\n",
            "782/782 [==============================] - 10s 13ms/step - loss: 0.1829 - accuracy: 0.9380 - val_loss: 2.7261 - val_accuracy: 0.5158\n",
            "Epoch 9/100\n",
            "782/782 [==============================] - 10s 13ms/step - loss: 0.1404 - accuracy: 0.9516 - val_loss: 2.3958 - val_accuracy: 0.5596\n",
            "Epoch 10/100\n",
            "782/782 [==============================] - 10s 13ms/step - loss: 0.1180 - accuracy: 0.9587 - val_loss: 2.9868 - val_accuracy: 0.5554\n",
            "Epoch 11/100\n",
            "782/782 [==============================] - 10s 13ms/step - loss: 0.1031 - accuracy: 0.9653 - val_loss: 3.0952 - val_accuracy: 0.5635\n",
            "Epoch 12/100\n",
            "782/782 [==============================] - 10s 12ms/step - loss: 0.0894 - accuracy: 0.9694 - val_loss: 2.2824 - val_accuracy: 0.6229\n"
          ]
        }
      ]
    },
    {
      "cell_type": "code",
      "source": [
        "# Đánh giá mô hình\n",
        "basic_eval = basic_model.evaluate(X_test, y_test)\n",
        "advanced_eval = advanced_model.evaluate(X_test, y_test)\n",
        "\n",
        "print(\"Basic Model Accuracy: \", basic_eval[1])\n",
        "print(\"Advanced Model Accuracy: \", advanced_eval[1])"
      ],
      "metadata": {
        "colab": {
          "base_uri": "https://localhost:8080/"
        },
        "id": "AaAduclhhAgP",
        "outputId": "60659a77-89fb-42e7-b9ee-449db7100f51"
      },
      "execution_count": null,
      "outputs": [
        {
          "output_type": "stream",
          "name": "stdout",
          "text": [
            "313/313 [==============================] - 1s 4ms/step - loss: 1.1671 - accuracy: 0.5786\n",
            "313/313 [==============================] - 2s 5ms/step - loss: 1.0370 - accuracy: 0.6333\n",
            "Basic Model Accuracy:  0.5785999894142151\n",
            "Advanced Model Accuracy:  0.6333000063896179\n"
          ]
        }
      ]
    },
    {
      "cell_type": "markdown",
      "source": [
        "**Channel và Spatial Attention kết hợp - CBAM**\n",
        "\n",
        "<img src=\"https://images.viblo.asia/full/76cec2c1-c87d-4d4b-be85-9ece78ee81ab.png\">\n",
        "\n",
        "<img src=\"https://images.viblo.asia/full/976bae0c-961b-4f8b-9dd1-cfc4faf98c41.png\">\n",
        "\n",
        "<img src=\"https://images.viblo.asia/full/4a438a02-49f4-4e5b-bf96-afd484f22a0c.png\">"
      ],
      "metadata": {
        "id": "qf87TEmgmsnJ"
      }
    },
    {
      "cell_type": "code",
      "source": [
        "import tensorflow as tf\n",
        "from tensorflow.keras.layers import Layer, Conv2D, GlobalAveragePooling2D, GlobalMaxPooling2D, Dense, Reshape, Concatenate, Multiply, Input, BatchNormalization, ReLU, Add, Flatten\n",
        "from tensorflow.keras.models import Model\n",
        "from tensorflow.keras.datasets import cifar10\n",
        "from tensorflow.keras.utils import to_categorical\n",
        "from tensorflow.keras.optimizers import Adam\n",
        "from tensorflow.keras.callbacks import EarlyStopping\n",
        "import numpy as np\n"
      ],
      "metadata": {
        "id": "iJShKMOOnYdS"
      },
      "execution_count": null,
      "outputs": []
    },
    {
      "cell_type": "code",
      "source": [
        "class ChannelAttention(Layer):\n",
        "    def __init__(self, filters, reduction_ratio=8, **kwargs):\n",
        "        super(ChannelAttention, self).__init__(**kwargs)\n",
        "        self.filters = filters\n",
        "        self.reduction_ratio = reduction_ratio\n",
        "        self.avg_pool = GlobalAveragePooling2D()\n",
        "        self.max_pool = GlobalMaxPooling2D()\n",
        "        self.dense1 = Dense(filters // reduction_ratio, activation='relu', use_bias=False)\n",
        "        self.dense2 = Dense(filters, use_bias=False)\n",
        "\n",
        "    def call(self, inputs):\n",
        "        avg_pool = self.avg_pool(inputs)\n",
        "        max_pool = self.max_pool(inputs)\n",
        "        avg_pool = self.dense1(avg_pool)\n",
        "        max_pool = self.dense1(max_pool)\n",
        "        avg_pool = self.dense2(avg_pool)\n",
        "        max_pool = self.dense2(max_pool)\n",
        "        scale = tf.nn.sigmoid(avg_pool + max_pool)\n",
        "        scale = Reshape((1, 1, self.filters))(scale)\n",
        "        return inputs * scale\n",
        "\n",
        "class SpatialAttention(Layer):\n",
        "    def __init__(self, **kwargs):\n",
        "        super(SpatialAttention, self).__init__(**kwargs)\n",
        "        self.conv = Conv2D(1, kernel_size=7, strides=1, padding='same', activation='sigmoid', use_bias=False)\n",
        "\n",
        "    def call(self, inputs):\n",
        "        avg_pool = tf.reduce_mean(inputs, axis=-1, keepdims=True)\n",
        "        max_pool = tf.reduce_max(inputs, axis=-1, keepdims=True)\n",
        "        concat = Concatenate(axis=-1)([avg_pool, max_pool])\n",
        "        scale = self.conv(concat)\n",
        "        return inputs * scale\n",
        "\n",
        "class CBAM(Layer):\n",
        "    def __init__(self, filters, reduction_ratio=8, **kwargs):\n",
        "        super(CBAM, self).__init__(**kwargs)\n",
        "        self.channel_attention = ChannelAttention(filters, reduction_ratio)\n",
        "        self.spatial_attention = SpatialAttention()\n",
        "\n",
        "    def call(self, inputs):\n",
        "        x = self.channel_attention(inputs)\n",
        "        x = self.spatial_attention(x)\n",
        "        return x\n",
        "\n"
      ],
      "metadata": {
        "id": "HnuYvSdvnSMk"
      },
      "execution_count": null,
      "outputs": []
    },
    {
      "cell_type": "code",
      "source": [
        "def create_basic_model(input_shape, num_classes):\n",
        "    inputs = tf.keras.Input(shape=input_shape)\n",
        "    x = Conv2D(32, kernel_size=3, padding='same', activation='relu')(inputs)\n",
        "    x = Conv2D(32, kernel_size=3, padding='same', activation='relu')(x)\n",
        "    x = tf.keras.layers.BatchNormalization()(x)\n",
        "    x = tf.keras.layers.Flatten()(x)\n",
        "    x = tf.keras.layers.Dense(128, activation='relu')(x)\n",
        "    outputs = tf.keras.layers.Dense(num_classes, activation='softmax')(x)\n",
        "    model = tf.keras.Model(inputs, outputs)\n",
        "    return model\n",
        "\n",
        "def create_cbam_model(input_shape, num_classes):\n",
        "    inputs = tf.keras.Input(shape=input_shape)\n",
        "    x = Conv2D(32, kernel_size=3, padding='same', activation='relu')(inputs)\n",
        "    x = CBAM(32)(x)\n",
        "    x = Conv2D(64, kernel_size=3, padding='same', activation='relu')(x)\n",
        "    x = CBAM(64)(x)\n",
        "    x = tf.keras.layers.GlobalAveragePooling2D()(x)\n",
        "    x = tf.keras.layers.Dense(128, activation='relu')(x)\n",
        "    outputs = tf.keras.layers.Dense(num_classes, activation='softmax')(x)\n",
        "    model = tf.keras.Model(inputs, outputs)\n",
        "    return model"
      ],
      "metadata": {
        "id": "LebYz9EOnbN9"
      },
      "execution_count": null,
      "outputs": []
    },
    {
      "cell_type": "code",
      "source": [
        "def train_and_evaluate(model, X_train, y_train, X_test, y_test, batch_size=64, epochs=100):\n",
        "    model.compile(optimizer=Adam(), loss='categorical_crossentropy', metrics=['accuracy'])\n",
        "    early_stopping = EarlyStopping(monitor='val_loss', patience=10, restore_best_weights=True)\n",
        "\n",
        "    history = model.fit(X_train, y_train,\n",
        "                        validation_data=(X_test, y_test),\n",
        "                        epochs=epochs,\n",
        "                        batch_size=batch_size,\n",
        "                        callbacks=[early_stopping])\n",
        "\n",
        "    return history, model\n",
        "\n",
        "#Tải dữ liệu CIFAR-10\n",
        "(X_train, y_train), (X_test, y_test) = tf.keras.datasets.cifar10.load_data()\n",
        "X_train, X_test = X_train / 255.0, X_test / 255.0\n",
        "y_train, y_test = tf.keras.utils.to_categorical(y_train), tf.keras.utils.to_categorical(y_test)\n",
        "\n",
        "input_shape = X_train.shape[1:]\n",
        "num_classes = y_train.shape[-1]"
      ],
      "metadata": {
        "id": "oNucVrULnfQo"
      },
      "execution_count": null,
      "outputs": []
    },
    {
      "cell_type": "code",
      "source": [
        "# Tạo và huấn luyện mô hình cơ bản\n",
        "basic_model = create_basic_model(input_shape, num_classes)\n",
        "history_basic, basic_model = train_and_evaluate(basic_model, X_train, y_train, X_test, y_test)"
      ],
      "metadata": {
        "id": "4_IRtvTznsp_",
        "colab": {
          "base_uri": "https://localhost:8080/"
        },
        "outputId": "0a832ebf-f1c6-4a01-e964-e878a2c19039"
      },
      "execution_count": null,
      "outputs": [
        {
          "output_type": "stream",
          "name": "stdout",
          "text": [
            "Epoch 1/100\n",
            "782/782 [==============================] - 12s 8ms/step - loss: 1.4378 - accuracy: 0.4928 - val_loss: 1.1716 - val_accuracy: 0.5881\n",
            "Epoch 2/100\n",
            "782/782 [==============================] - 5s 7ms/step - loss: 0.9624 - accuracy: 0.6612 - val_loss: 1.2450 - val_accuracy: 0.5819\n",
            "Epoch 3/100\n",
            "782/782 [==============================] - 6s 7ms/step - loss: 0.6182 - accuracy: 0.7825 - val_loss: 1.2510 - val_accuracy: 0.6062\n",
            "Epoch 4/100\n",
            "782/782 [==============================] - 5s 7ms/step - loss: 0.3219 - accuracy: 0.8912 - val_loss: 1.6384 - val_accuracy: 0.5970\n",
            "Epoch 5/100\n",
            "782/782 [==============================] - 6s 7ms/step - loss: 0.1723 - accuracy: 0.9423 - val_loss: 1.8837 - val_accuracy: 0.6084\n",
            "Epoch 6/100\n",
            "782/782 [==============================] - 5s 7ms/step - loss: 0.1264 - accuracy: 0.9588 - val_loss: 2.4804 - val_accuracy: 0.5696\n",
            "Epoch 7/100\n",
            "782/782 [==============================] - 6s 7ms/step - loss: 0.1053 - accuracy: 0.9645 - val_loss: 3.0228 - val_accuracy: 0.5838\n",
            "Epoch 8/100\n",
            "782/782 [==============================] - 5s 7ms/step - loss: 0.0880 - accuracy: 0.9706 - val_loss: 2.9948 - val_accuracy: 0.5812\n",
            "Epoch 9/100\n",
            "782/782 [==============================] - 6s 7ms/step - loss: 0.0747 - accuracy: 0.9754 - val_loss: 3.0711 - val_accuracy: 0.5820\n",
            "Epoch 10/100\n",
            "782/782 [==============================] - 5s 7ms/step - loss: 0.0673 - accuracy: 0.9781 - val_loss: 3.3025 - val_accuracy: 0.5831\n",
            "Epoch 11/100\n",
            "782/782 [==============================] - 5s 7ms/step - loss: 0.0750 - accuracy: 0.9754 - val_loss: 3.2093 - val_accuracy: 0.5871\n"
          ]
        }
      ]
    },
    {
      "cell_type": "code",
      "source": [
        "# Tạo và huấn luyện mô hình nâng cao với Deformable Convolution và Spatial Attention\n",
        "cbam_model = create_cbam_model(input_shape, num_classes)\n",
        "history_cbam, cbam_model = train_and_evaluate(cbam_model, X_train, y_train, X_test, y_test)"
      ],
      "metadata": {
        "id": "z9vc6UXbn1ur",
        "colab": {
          "base_uri": "https://localhost:8080/"
        },
        "outputId": "582fc38e-45e6-496c-beff-0cb7a916e569"
      },
      "execution_count": null,
      "outputs": [
        {
          "output_type": "stream",
          "name": "stdout",
          "text": [
            "Epoch 1/100\n",
            "782/782 [==============================] - 15s 15ms/step - loss: 1.9781 - accuracy: 0.2583 - val_loss: 1.8069 - val_accuracy: 0.3218\n",
            "Epoch 2/100\n",
            "782/782 [==============================] - 12s 15ms/step - loss: 1.6960 - accuracy: 0.3616 - val_loss: 1.5961 - val_accuracy: 0.4065\n",
            "Epoch 3/100\n",
            "782/782 [==============================] - 11s 14ms/step - loss: 1.5833 - accuracy: 0.4043 - val_loss: 1.5346 - val_accuracy: 0.4265\n",
            "Epoch 4/100\n",
            "782/782 [==============================] - 11s 14ms/step - loss: 1.5121 - accuracy: 0.4358 - val_loss: 1.4853 - val_accuracy: 0.4465\n",
            "Epoch 5/100\n",
            "782/782 [==============================] - 11s 14ms/step - loss: 1.4611 - accuracy: 0.4568 - val_loss: 1.4400 - val_accuracy: 0.4663\n",
            "Epoch 6/100\n",
            "782/782 [==============================] - 11s 15ms/step - loss: 1.4185 - accuracy: 0.4748 - val_loss: 1.4327 - val_accuracy: 0.4663\n",
            "Epoch 7/100\n",
            "782/782 [==============================] - 11s 14ms/step - loss: 1.3811 - accuracy: 0.4923 - val_loss: 1.3600 - val_accuracy: 0.4954\n",
            "Epoch 8/100\n",
            "782/782 [==============================] - 11s 14ms/step - loss: 1.3513 - accuracy: 0.5042 - val_loss: 1.3341 - val_accuracy: 0.5032\n",
            "Epoch 9/100\n",
            "782/782 [==============================] - 12s 15ms/step - loss: 1.3283 - accuracy: 0.5127 - val_loss: 1.3385 - val_accuracy: 0.5076\n",
            "Epoch 10/100\n",
            "782/782 [==============================] - 12s 15ms/step - loss: 1.2985 - accuracy: 0.5266 - val_loss: 1.3515 - val_accuracy: 0.4965\n",
            "Epoch 11/100\n",
            "782/782 [==============================] - 11s 14ms/step - loss: 1.2738 - accuracy: 0.5353 - val_loss: 1.2985 - val_accuracy: 0.5275\n",
            "Epoch 12/100\n",
            "782/782 [==============================] - 11s 14ms/step - loss: 1.2547 - accuracy: 0.5450 - val_loss: 1.3029 - val_accuracy: 0.5191\n",
            "Epoch 13/100\n",
            "782/782 [==============================] - 11s 14ms/step - loss: 1.2353 - accuracy: 0.5498 - val_loss: 1.2797 - val_accuracy: 0.5326\n",
            "Epoch 14/100\n",
            "782/782 [==============================] - 11s 14ms/step - loss: 1.2150 - accuracy: 0.5591 - val_loss: 1.2596 - val_accuracy: 0.5410\n",
            "Epoch 15/100\n",
            "782/782 [==============================] - 11s 14ms/step - loss: 1.1942 - accuracy: 0.5644 - val_loss: 1.2224 - val_accuracy: 0.5568\n",
            "Epoch 16/100\n",
            "782/782 [==============================] - 11s 14ms/step - loss: 1.1761 - accuracy: 0.5726 - val_loss: 1.2135 - val_accuracy: 0.5561\n",
            "Epoch 17/100\n",
            "782/782 [==============================] - 11s 14ms/step - loss: 1.1618 - accuracy: 0.5797 - val_loss: 1.2225 - val_accuracy: 0.5593\n",
            "Epoch 18/100\n",
            "782/782 [==============================] - 11s 14ms/step - loss: 1.1431 - accuracy: 0.5877 - val_loss: 1.1653 - val_accuracy: 0.5844\n",
            "Epoch 19/100\n",
            "782/782 [==============================] - 11s 14ms/step - loss: 1.1277 - accuracy: 0.5920 - val_loss: 1.1987 - val_accuracy: 0.5645\n",
            "Epoch 20/100\n",
            "782/782 [==============================] - 12s 15ms/step - loss: 1.1127 - accuracy: 0.5962 - val_loss: 1.1511 - val_accuracy: 0.5831\n",
            "Epoch 21/100\n",
            "782/782 [==============================] - 12s 15ms/step - loss: 1.1020 - accuracy: 0.6007 - val_loss: 1.1294 - val_accuracy: 0.5914\n",
            "Epoch 22/100\n",
            "782/782 [==============================] - 11s 14ms/step - loss: 1.0893 - accuracy: 0.6078 - val_loss: 1.1681 - val_accuracy: 0.5784\n",
            "Epoch 23/100\n",
            "782/782 [==============================] - 12s 15ms/step - loss: 1.0809 - accuracy: 0.6086 - val_loss: 1.1209 - val_accuracy: 0.5975\n",
            "Epoch 24/100\n",
            "782/782 [==============================] - 11s 14ms/step - loss: 1.0699 - accuracy: 0.6136 - val_loss: 1.1109 - val_accuracy: 0.6005\n",
            "Epoch 25/100\n",
            "782/782 [==============================] - 11s 14ms/step - loss: 1.0552 - accuracy: 0.6190 - val_loss: 1.1113 - val_accuracy: 0.6015\n",
            "Epoch 26/100\n",
            "782/782 [==============================] - 11s 14ms/step - loss: 1.0445 - accuracy: 0.6210 - val_loss: 1.0991 - val_accuracy: 0.6048\n",
            "Epoch 27/100\n",
            "782/782 [==============================] - 11s 14ms/step - loss: 1.0345 - accuracy: 0.6281 - val_loss: 1.0948 - val_accuracy: 0.6118\n",
            "Epoch 28/100\n",
            "782/782 [==============================] - 11s 14ms/step - loss: 1.0256 - accuracy: 0.6293 - val_loss: 1.0928 - val_accuracy: 0.6061\n",
            "Epoch 29/100\n",
            "782/782 [==============================] - 11s 15ms/step - loss: 1.0149 - accuracy: 0.6345 - val_loss: 1.1066 - val_accuracy: 0.6020\n",
            "Epoch 30/100\n",
            "782/782 [==============================] - 11s 14ms/step - loss: 1.0071 - accuracy: 0.6360 - val_loss: 1.0985 - val_accuracy: 0.6063\n",
            "Epoch 31/100\n",
            "782/782 [==============================] - 11s 14ms/step - loss: 1.0006 - accuracy: 0.6391 - val_loss: 1.0861 - val_accuracy: 0.6113\n",
            "Epoch 32/100\n",
            "782/782 [==============================] - 12s 15ms/step - loss: 0.9876 - accuracy: 0.6440 - val_loss: 1.0460 - val_accuracy: 0.6260\n",
            "Epoch 33/100\n",
            "782/782 [==============================] - 12s 15ms/step - loss: 0.9830 - accuracy: 0.6456 - val_loss: 1.0526 - val_accuracy: 0.6228\n",
            "Epoch 34/100\n",
            "782/782 [==============================] - 11s 14ms/step - loss: 0.9745 - accuracy: 0.6483 - val_loss: 1.0577 - val_accuracy: 0.6201\n",
            "Epoch 35/100\n",
            "782/782 [==============================] - 12s 15ms/step - loss: 0.9624 - accuracy: 0.6515 - val_loss: 1.0581 - val_accuracy: 0.6281\n",
            "Epoch 36/100\n",
            "782/782 [==============================] - 11s 14ms/step - loss: 0.9604 - accuracy: 0.6522 - val_loss: 1.0241 - val_accuracy: 0.6354\n",
            "Epoch 37/100\n",
            "782/782 [==============================] - 11s 14ms/step - loss: 0.9500 - accuracy: 0.6574 - val_loss: 1.0396 - val_accuracy: 0.6266\n",
            "Epoch 38/100\n",
            "782/782 [==============================] - 11s 14ms/step - loss: 0.9449 - accuracy: 0.6606 - val_loss: 1.0452 - val_accuracy: 0.6274\n",
            "Epoch 39/100\n",
            "782/782 [==============================] - 11s 14ms/step - loss: 0.9402 - accuracy: 0.6618 - val_loss: 1.0417 - val_accuracy: 0.6266\n",
            "Epoch 40/100\n",
            "782/782 [==============================] - 11s 14ms/step - loss: 0.9275 - accuracy: 0.6658 - val_loss: 1.0064 - val_accuracy: 0.6396\n",
            "Epoch 41/100\n",
            "782/782 [==============================] - 11s 14ms/step - loss: 0.9250 - accuracy: 0.6655 - val_loss: 1.0279 - val_accuracy: 0.6290\n",
            "Epoch 42/100\n",
            "782/782 [==============================] - 11s 14ms/step - loss: 0.9220 - accuracy: 0.6684 - val_loss: 1.0423 - val_accuracy: 0.6248\n",
            "Epoch 43/100\n",
            "782/782 [==============================] - 11s 14ms/step - loss: 0.9098 - accuracy: 0.6714 - val_loss: 1.0119 - val_accuracy: 0.6369\n",
            "Epoch 44/100\n",
            "782/782 [==============================] - 11s 14ms/step - loss: 0.9047 - accuracy: 0.6733 - val_loss: 0.9978 - val_accuracy: 0.6470\n",
            "Epoch 45/100\n",
            "782/782 [==============================] - 11s 14ms/step - loss: 0.9035 - accuracy: 0.6737 - val_loss: 1.0057 - val_accuracy: 0.6409\n",
            "Epoch 46/100\n",
            "782/782 [==============================] - 11s 14ms/step - loss: 0.8958 - accuracy: 0.6776 - val_loss: 0.9992 - val_accuracy: 0.6426\n",
            "Epoch 47/100\n",
            "782/782 [==============================] - 11s 14ms/step - loss: 0.8924 - accuracy: 0.6791 - val_loss: 1.0174 - val_accuracy: 0.6372\n",
            "Epoch 48/100\n",
            "782/782 [==============================] - 11s 14ms/step - loss: 0.8879 - accuracy: 0.6794 - val_loss: 1.0124 - val_accuracy: 0.6403\n",
            "Epoch 49/100\n",
            "782/782 [==============================] - 11s 14ms/step - loss: 0.8834 - accuracy: 0.6818 - val_loss: 1.0083 - val_accuracy: 0.6418\n",
            "Epoch 50/100\n",
            "782/782 [==============================] - 11s 14ms/step - loss: 0.8761 - accuracy: 0.6845 - val_loss: 0.9851 - val_accuracy: 0.6464\n",
            "Epoch 51/100\n",
            "782/782 [==============================] - 11s 14ms/step - loss: 0.8710 - accuracy: 0.6867 - val_loss: 0.9816 - val_accuracy: 0.6477\n",
            "Epoch 52/100\n",
            "782/782 [==============================] - 11s 14ms/step - loss: 0.8677 - accuracy: 0.6875 - val_loss: 0.9984 - val_accuracy: 0.6446\n",
            "Epoch 53/100\n",
            "782/782 [==============================] - 11s 14ms/step - loss: 0.8631 - accuracy: 0.6904 - val_loss: 0.9969 - val_accuracy: 0.6468\n",
            "Epoch 54/100\n",
            "782/782 [==============================] - 12s 15ms/step - loss: 0.8590 - accuracy: 0.6921 - val_loss: 1.0222 - val_accuracy: 0.6366\n",
            "Epoch 55/100\n",
            "782/782 [==============================] - 12s 15ms/step - loss: 0.8534 - accuracy: 0.6927 - val_loss: 0.9993 - val_accuracy: 0.6454\n",
            "Epoch 56/100\n",
            "782/782 [==============================] - 12s 15ms/step - loss: 0.8495 - accuracy: 0.6936 - val_loss: 0.9971 - val_accuracy: 0.6447\n",
            "Epoch 57/100\n",
            "782/782 [==============================] - 11s 15ms/step - loss: 0.8457 - accuracy: 0.6964 - val_loss: 0.9883 - val_accuracy: 0.6497\n",
            "Epoch 58/100\n",
            "782/782 [==============================] - 11s 14ms/step - loss: 0.8421 - accuracy: 0.6956 - val_loss: 0.9996 - val_accuracy: 0.6463\n",
            "Epoch 59/100\n",
            "782/782 [==============================] - 11s 14ms/step - loss: 0.8394 - accuracy: 0.6972 - val_loss: 0.9872 - val_accuracy: 0.6506\n",
            "Epoch 60/100\n",
            "782/782 [==============================] - 11s 14ms/step - loss: 0.8377 - accuracy: 0.6967 - val_loss: 0.9772 - val_accuracy: 0.6563\n",
            "Epoch 61/100\n",
            "782/782 [==============================] - 11s 14ms/step - loss: 0.8294 - accuracy: 0.7011 - val_loss: 0.9655 - val_accuracy: 0.6561\n",
            "Epoch 62/100\n",
            "782/782 [==============================] - 11s 14ms/step - loss: 0.8258 - accuracy: 0.7026 - val_loss: 0.9619 - val_accuracy: 0.6606\n",
            "Epoch 63/100\n",
            "782/782 [==============================] - 11s 14ms/step - loss: 0.8230 - accuracy: 0.7031 - val_loss: 0.9912 - val_accuracy: 0.6504\n",
            "Epoch 64/100\n",
            "782/782 [==============================] - 11s 14ms/step - loss: 0.8214 - accuracy: 0.7029 - val_loss: 0.9932 - val_accuracy: 0.6460\n",
            "Epoch 65/100\n",
            "782/782 [==============================] - 11s 15ms/step - loss: 0.8176 - accuracy: 0.7066 - val_loss: 0.9653 - val_accuracy: 0.6567\n",
            "Epoch 66/100\n",
            "782/782 [==============================] - 11s 14ms/step - loss: 0.8105 - accuracy: 0.7080 - val_loss: 0.9680 - val_accuracy: 0.6564\n",
            "Epoch 67/100\n",
            "782/782 [==============================] - 12s 15ms/step - loss: 0.8094 - accuracy: 0.7093 - val_loss: 0.9661 - val_accuracy: 0.6547\n",
            "Epoch 68/100\n",
            "782/782 [==============================] - 12s 15ms/step - loss: 0.8069 - accuracy: 0.7091 - val_loss: 1.0045 - val_accuracy: 0.6482\n",
            "Epoch 69/100\n",
            "782/782 [==============================] - 11s 14ms/step - loss: 0.8026 - accuracy: 0.7116 - val_loss: 0.9537 - val_accuracy: 0.6625\n",
            "Epoch 70/100\n",
            "782/782 [==============================] - 12s 15ms/step - loss: 0.7980 - accuracy: 0.7131 - val_loss: 0.9882 - val_accuracy: 0.6506\n",
            "Epoch 71/100\n",
            "782/782 [==============================] - 11s 14ms/step - loss: 0.7934 - accuracy: 0.7141 - val_loss: 0.9746 - val_accuracy: 0.6569\n",
            "Epoch 72/100\n",
            "782/782 [==============================] - 11s 14ms/step - loss: 0.7955 - accuracy: 0.7137 - val_loss: 0.9663 - val_accuracy: 0.6604\n",
            "Epoch 73/100\n",
            "782/782 [==============================] - 11s 15ms/step - loss: 0.7909 - accuracy: 0.7159 - val_loss: 0.9735 - val_accuracy: 0.6606\n",
            "Epoch 74/100\n",
            "782/782 [==============================] - 11s 14ms/step - loss: 0.7888 - accuracy: 0.7158 - val_loss: 1.0445 - val_accuracy: 0.6435\n",
            "Epoch 75/100\n",
            "782/782 [==============================] - 11s 14ms/step - loss: 0.7845 - accuracy: 0.7159 - val_loss: 0.9775 - val_accuracy: 0.6581\n",
            "Epoch 76/100\n",
            "782/782 [==============================] - 11s 15ms/step - loss: 0.7819 - accuracy: 0.7173 - val_loss: 0.9718 - val_accuracy: 0.6624\n",
            "Epoch 77/100\n",
            "782/782 [==============================] - 11s 14ms/step - loss: 0.7751 - accuracy: 0.7203 - val_loss: 0.9600 - val_accuracy: 0.6637\n",
            "Epoch 78/100\n",
            "782/782 [==============================] - 11s 14ms/step - loss: 0.7721 - accuracy: 0.7220 - val_loss: 0.9924 - val_accuracy: 0.6564\n",
            "Epoch 79/100\n",
            "782/782 [==============================] - 11s 14ms/step - loss: 0.7716 - accuracy: 0.7225 - val_loss: 0.9604 - val_accuracy: 0.6612\n"
          ]
        }
      ]
    },
    {
      "cell_type": "code",
      "source": [
        "# Đánh giá mô hình\n",
        "basic_eval = basic_model.evaluate(X_test, y_test)\n",
        "cbam_eval = cbam_model.evaluate(X_test, y_test)\n",
        "\n",
        "print(\"Basic Model Accuracy: \", basic_eval[1])\n",
        "print(\"CBAM Model Accuracy: \", cbam_eval[1])"
      ],
      "metadata": {
        "id": "5Xv9pH7doAV4",
        "colab": {
          "base_uri": "https://localhost:8080/"
        },
        "outputId": "257c3c36-e5f8-4928-a340-16f10ef8bf12"
      },
      "execution_count": null,
      "outputs": [
        {
          "output_type": "stream",
          "name": "stdout",
          "text": [
            "313/313 [==============================] - 1s 3ms/step - loss: 1.1716 - accuracy: 0.5881\n",
            "313/313 [==============================] - 2s 5ms/step - loss: 0.9537 - accuracy: 0.6625\n",
            "Basic Model Accuracy:  0.588100016117096\n",
            "CBAM Model Accuracy:  0.6625000238418579\n"
          ]
        }
      ]
    }
  ]
}